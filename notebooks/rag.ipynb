{
 "cells": [
  {
   "cell_type": "code",
   "execution_count": 3,
   "id": "a225b61a",
   "metadata": {},
   "outputs": [
    {
     "name": "stderr",
     "output_type": "stream",
     "text": [
      "/Users/anishmangurung/Desktop/Projects/RAG/rag_env/lib/python3.12/site-packages/tqdm/auto.py:21: TqdmWarning: IProgress not found. Please update jupyter and ipywidgets. See https://ipywidgets.readthedocs.io/en/stable/user_install.html\n",
      "  from .autonotebook import tqdm as notebook_tqdm\n"
     ]
    }
   ],
   "source": [
    "import kagglehub\n",
    "import os\n",
    "import pandas as pd\n",
    "from langchain.schema import Document\n",
    "from langchain.text_splitter import RecursiveCharacterTextSplitter\n",
    "from sentence_transformers import SentenceTransformer \n",
    "import faiss\n",
    "import numpy as np"
   ]
  },
  {
   "cell_type": "markdown",
   "id": "6d95f7d2",
   "metadata": {},
   "source": [
    "## Step 1: Load your FAQ dataset"
   ]
  },
  {
   "cell_type": "code",
   "execution_count": null,
   "id": "660398f2",
   "metadata": {},
   "outputs": [
    {
     "data": {
      "text/html": [
       "<div>\n",
       "<style scoped>\n",
       "    .dataframe tbody tr th:only-of-type {\n",
       "        vertical-align: middle;\n",
       "    }\n",
       "\n",
       "    .dataframe tbody tr th {\n",
       "        vertical-align: top;\n",
       "    }\n",
       "\n",
       "    .dataframe thead th {\n",
       "        text-align: right;\n",
       "    }\n",
       "</style>\n",
       "<table border=\"1\" class=\"dataframe\">\n",
       "  <thead>\n",
       "    <tr style=\"text-align: right;\">\n",
       "      <th></th>\n",
       "      <th>questions</th>\n",
       "    </tr>\n",
       "  </thead>\n",
       "  <tbody>\n",
       "    <tr>\n",
       "      <th>0</th>\n",
       "      <td>{'question': 'How can I create an account?', '...</td>\n",
       "    </tr>\n",
       "    <tr>\n",
       "      <th>1</th>\n",
       "      <td>{'question': 'What payment methods do you acce...</td>\n",
       "    </tr>\n",
       "    <tr>\n",
       "      <th>2</th>\n",
       "      <td>{'question': 'How can I track my order?', 'ans...</td>\n",
       "    </tr>\n",
       "    <tr>\n",
       "      <th>3</th>\n",
       "      <td>{'question': 'What is your return policy?', 'a...</td>\n",
       "    </tr>\n",
       "    <tr>\n",
       "      <th>4</th>\n",
       "      <td>{'question': 'Can I cancel my order?', 'answer...</td>\n",
       "    </tr>\n",
       "  </tbody>\n",
       "</table>\n",
       "</div>"
      ],
      "text/plain": [
       "                                           questions\n",
       "0  {'question': 'How can I create an account?', '...\n",
       "1  {'question': 'What payment methods do you acce...\n",
       "2  {'question': 'How can I track my order?', 'ans...\n",
       "3  {'question': 'What is your return policy?', 'a...\n",
       "4  {'question': 'Can I cancel my order?', 'answer..."
      ]
     },
     "execution_count": 5,
     "metadata": {},
     "output_type": "execute_result"
    }
   ],
   "source": [
    "# load faq json \n",
    "df = pd.read_json('data/Ecommerce_FAQ_Chatbot_dataset.json')\n",
    "df.head()"
   ]
  },
  {
   "cell_type": "code",
   "execution_count": 6,
   "id": "a17fef7e",
   "metadata": {},
   "outputs": [],
   "source": [
    "docs = []\n",
    "for _, row in df.iterrows():\n",
    "    rows_dict = row['questions']\n",
    "    content = f\"Q: {rows_dict['question']}\\nA: {rows_dict['answer']}\"\n",
    "    docs.append(Document(page_content=content))"
   ]
  },
  {
   "cell_type": "markdown",
   "id": "a5997581",
   "metadata": {},
   "source": [
    "## Step 2: Split into chunks"
   ]
  },
  {
   "cell_type": "code",
   "execution_count": 7,
   "id": "427fb15b",
   "metadata": {},
   "outputs": [],
   "source": [
    "from langchain.text_splitter import RecursiveCharacterTextSplitter\n",
    "\n",
    "splitter = RecursiveCharacterTextSplitter(\n",
    "    chunk_size=500,\n",
    "    chunk_overlap=50,\n",
    ")\n",
    "docs_split = splitter.split_documents(docs)"
   ]
  },
  {
   "cell_type": "markdown",
   "id": "d908166b",
   "metadata": {},
   "source": [
    "## Optional Step: Create Embeddings + Vector Store\n",
    "\n",
    "- This is manual way to embedd and create a faiss index\n",
    "- We don't need to do this if we use langchain"
   ]
  },
  {
   "cell_type": "code",
   "execution_count": null,
   "id": "cd9204db",
   "metadata": {},
   "outputs": [
    {
     "name": "stdout",
     "output_type": "stream",
     "text": [
      "Dimension of embeddings: 384\n",
      "Stored 79 documents in FAISS index.\n"
     ]
    }
   ],
   "source": [
    "from sentence_transformers import SentenceTransformer \n",
    "import faiss\n",
    "import numpy as np \n",
    "\n",
    "# load embedding model\n",
    "embedder = SentenceTransformer(\"sentence-transformers/all-MiniLM-L6-v2\")\n",
    "\n",
    "# generate embeddings for all chunks\n",
    "texts = [doc.page_content for doc in docs_split]\n",
    "embeddings = embedder.encode(texts, convert_to_numpy=True)\n",
    "\n",
    "# Facebook AI Similarity Search - FAISS\n",
    "# FAISS main purpose is to store and search large sets of high-dimensional vectors efficiently.\n",
    "# FAISS lets you quickly find the most similar vectors to a query vector without scanning all vectors linearly.\n",
    " \n",
    "# Create FAISS index \n",
    "dimension = embeddings.shape[1]\n",
    "print(f\"Dimension of embeddings: {dimension}\")\n",
    "index = faiss.IndexFlatL2(dimension)\n",
    "index.add(embeddings)\n",
    "\n",
    "print(f\"Stored {index.ntotal} documents in FAISS index.\")"
   ]
  },
  {
   "cell_type": "markdown",
   "id": "6cde0a3d",
   "metadata": {},
   "source": [
    "## Step 3: Create Embeddings and Setup Retriever in LangChain"
   ]
  },
  {
   "cell_type": "code",
   "execution_count": 30,
   "id": "5ecb9f82",
   "metadata": {},
   "outputs": [],
   "source": [
    "from langchain.chains import RetrievalQA\n",
    "from langchain_community.vectorstores import FAISS\n",
    "# from langchain.embeddings import HuggingFaceEmbeddings, OpenAIEmbeddings\n",
    "from langchain_huggingface import HuggingFaceEmbeddings\n",
    "from langchain.llms import HuggingFacePipeline\n",
    "\n",
    "\n",
    "# create embeddings from docs_split\n",
    "embeddings = HuggingFaceEmbeddings(model_name=\"sentence-transformers/all-MiniLM-L6-v2\")\n",
    "\n",
    "# embeddings = OpenAIEmbeddings(model=\"text-embedding-3-large\")\n",
    "\n",
    "# Create FAISS vector store from documents and embeddings\n",
    "vectorstore = FAISS.from_documents(docs_split, embeddings)\n",
    "\n",
    "# Create retreiver\n",
    "retriever = vectorstore.as_retriever(search_type=\"similarity\", search_kwargs={\"k\":10, \"score_threshold\": 0.9})"
   ]
  },
  {
   "cell_type": "markdown",
   "id": "4dfc6b60",
   "metadata": {},
   "source": [
    "## Step 4: Intialize local Ollama LLM and prepare prompt template"
   ]
  },
  {
   "cell_type": "code",
   "execution_count": null,
   "id": "4adf2105",
   "metadata": {},
   "outputs": [],
   "source": [
    "from langchain_ollama import OllamaLLM\n",
    "from langchain.llms import Ollama\n",
    "\n",
    "llm = OllamaLLM(model=\"mistral\",\n",
    "                temperature=0,\n",
    "                system=(\n",
    "                    \"You are a strict QA assistant. Use ONLY the provided context. \"\n",
    "                    \"If the answer is not fully supported by the context, reply exactly: I don’t know.\"\n",
    "                    )\n",
    "                )"
   ]
  },
  {
   "cell_type": "code",
   "execution_count": 28,
   "id": "f011afca",
   "metadata": {},
   "outputs": [],
   "source": [
    "from langchain.prompts import PromptTemplate\n",
    "\n",
    "# Custom prompt that restricts answers\n",
    "prompt_template = \"\"\"\n",
    "Context:\n",
    "{context}\n",
    "\n",
    "Question: {question}\n",
    "\n",
    "Answer:\n",
    "\"\"\"\n",
    "\n",
    "prompt = PromptTemplate(\n",
    "    template=prompt_template,\n",
    "    input_variables=[\"context\", \"question\"]\n",
    ")"
   ]
  },
  {
   "cell_type": "markdown",
   "id": "6164139d",
   "metadata": {},
   "source": [
    "## Step 5: Setup function to invoke query"
   ]
  },
  {
   "cell_type": "code",
   "execution_count": 38,
   "id": "bd91e302",
   "metadata": {},
   "outputs": [],
   "source": [
    "def get_answer(qa, query):\n",
    "    candidates = retriever.get_relevant_documents(query)\n",
    "    if len(candidates) == 0:\n",
    "        print(\"No relevant documents found.\")\n",
    "        return {'query': query, 'result': 'Sorry, I cannot find the answer to your query!'}\n",
    "    else:\n",
    "        print(f\"Found {len(candidates)} documents.\")\n",
    "        answer = qa.invoke(query)\n",
    "        return answer"
   ]
  },
  {
   "cell_type": "markdown",
   "id": "a1e729b8",
   "metadata": {},
   "source": [
    "## Step 6: Run the queries"
   ]
  },
  {
   "cell_type": "code",
   "execution_count": 41,
   "id": "4f46966f",
   "metadata": {},
   "outputs": [
    {
     "name": "stdout",
     "output_type": "stream",
     "text": [
      "No relevant documents found.\n",
      "Question = Where is Nepal\n",
      "Answer = Sorry, I cannot find the answer to your query!\n",
      "\n",
      "No relevant documents found.\n",
      "Question = What is Nuclear Physics\n",
      "Answer = Sorry, I cannot find the answer to your query!\n",
      "\n",
      "Found 2 documents.\n",
      "Question = How can I cancel my shipment?\n",
      "Answer =  To cancel your shipment, you should contact our customer support team immediately. Provide them with your order details, and they will guide you through the cancellation process, ensuring that your shipment is cancelled if it has not yet been shipped.\n",
      "\n",
      "No relevant documents found.\n",
      "Question = How much is the delivery charge?\n",
      "Answer = Sorry, I cannot find the answer to your query!\n",
      "\n",
      "Found 2 documents.\n",
      "Question = What is your return policy?\n",
      "Answer =  Our return policy allows you to return products within 30 days of purchase for a full refund, provided they are in their original condition and packaging. However, damage due to improper use may not be eligible for a return. For detailed instructions, please refer to our Returns page or contact our customer support team for assistance.\n",
      "\n",
      "No relevant documents found.\n",
      "Question = What is the expensive product of yours\n",
      "Answer = Sorry, I cannot find the answer to your query!\n",
      "\n",
      "Found 10 documents.\n",
      "Question = Is there a way to order a product currently not available in store?\n",
      "Answer =  Yes, if the product is listed as 'temporarily unavailable,' 'out of stock' but available for pre-order, or 'out of stock' but available for backorder, you can place an order online. The product will be shipped once it becomes available. Additionally, some websites may offer the option to sign up for notifications when a product becomes available again or when it is restocked in your preferred size. If a product is listed as 'coming soon,' you will need to wait until it is officially released and becomes available for purchase.\n",
      "\n"
     ]
    }
   ],
   "source": [
    "# Create RetrievalQA chain\n",
    "qa = RetrievalQA.from_chain_type(\n",
    "    llm=llm,\n",
    "    retriever=retriever,\n",
    "    chain_type=\"stuff\", # simplest way to combine documents with a prompt\n",
    "    chain_type_kwargs={\"prompt\": prompt}\n",
    ")\n",
    "\n",
    "# Ask a question \n",
    "\n",
    "queries = [\"Where is Nepal\", \"What is Nuclear Physics\", \"How can I cancel my shipment?\", \"How much is the delivery charge?\",\n",
    "           \"What is your return policy?\", \"What is the expensive product of yours\", \"Is there a way to order a product currently not available in store?\"]\n",
    "for query in queries:\n",
    "    answer = get_answer(qa, query)\n",
    "    print(f\"Question = {answer['query']}\")\n",
    "    print(f\"Answer = {answer['result']}\\n\")"
   ]
  },
  {
   "cell_type": "code",
   "execution_count": null,
   "id": "d5369560",
   "metadata": {},
   "outputs": [],
   "source": []
  }
 ],
 "metadata": {
  "kernelspec": {
   "display_name": "rag_env (3.12.2)",
   "language": "python",
   "name": "python3"
  },
  "language_info": {
   "codemirror_mode": {
    "name": "ipython",
    "version": 3
   },
   "file_extension": ".py",
   "mimetype": "text/x-python",
   "name": "python",
   "nbconvert_exporter": "python",
   "pygments_lexer": "ipython3",
   "version": "3.12.2"
  }
 },
 "nbformat": 4,
 "nbformat_minor": 5
}
